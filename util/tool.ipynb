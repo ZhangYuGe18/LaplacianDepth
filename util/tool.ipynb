{
 "cells": [
  {
   "cell_type": "code",
   "execution_count": null,
   "id": "1621c422-3f62-4f94-a0c3-e1f329e177e3",
   "metadata": {},
   "outputs": [],
   "source": [
    "import os\n",
    "root_path = \"../../autodl-tmp/deepthanything\"\n",
    "delete_list = []\n",
    "for folder_name in os.listdir(root_path):\n",
    "    folder_path = os.path.join(root_path,folder_name)\n",
    "    for image_name in os.listdir(folder_path):\n",
    "        if 'color' not in image_name and 'depth' not in image_name:\n",
    "            delete_list.append(os.path.join(folder_path,image_name))"
   ]
  },
  {
   "cell_type": "code",
   "execution_count": null,
   "id": "80be6124-9b73-493b-b589-76c5f94d59cf",
   "metadata": {},
   "outputs": [],
   "source": [
    "for i in delete_list:\n",
    "    if i.endswith(('.png', '.tiff','.txt')):\n",
    "        try:\n",
    "            os.remove(i)\n",
    "        except FileNotFoundError:\n",
    "            print(\"File does not exist!\")"
   ]
  }
 ],
 "metadata": {
  "kernelspec": {
   "display_name": "robotics",
   "language": "python",
   "name": "robotics"
  },
  "language_info": {
   "codemirror_mode": {
    "name": "ipython",
    "version": 3
   },
   "file_extension": ".py",
   "mimetype": "text/x-python",
   "name": "python",
   "nbconvert_exporter": "python",
   "pygments_lexer": "ipython3",
   "version": "3.10.14"
  }
 },
 "nbformat": 4,
 "nbformat_minor": 5
}
