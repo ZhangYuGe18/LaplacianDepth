{
 "cells": [
  {
   "cell_type": "code",
   "execution_count": 1,
   "id": "dd1ff96d-f177-4524-aa2a-1980bb814c7d",
   "metadata": {},
   "outputs": [
    {
     "name": "stderr",
     "output_type": "stream",
     "text": [
      "xFormers not available\n",
      "xFormers not available\n"
     ]
    }
   ],
   "source": [
    "import argparse\n",
    "import os\n",
    "import warnings\n",
    "import numpy as np\n",
    "warnings.simplefilter('ignore', np.RankWarning)\n",
    "import torch\n",
    "import torch.backends.cudnn as cudnn\n",
    "from torch.utils.data import DataLoader\n",
    "from torch.optim import AdamW\n",
    "import torch.nn.functional as F\n",
    "from depth_anything.dpt import LaplacianDepth\n",
    "from util.loss import SiLogLoss\n",
    "from dataset.custom_dataset import *"
   ]
  },
  {
   "cell_type": "code",
   "execution_count": 2,
   "id": "689b91e7-039e-479f-9e4f-b0437da868d9",
   "metadata": {},
   "outputs": [
    {
     "name": "stdout",
     "output_type": "stream",
     "text": [
      "trans_t2_b includs image:103 and image:103 \n",
      "trans_t2_a includs image:103 and image:103 \n",
      "trans_t1_a includs image:164 and image:164 \n",
      "trans_t2_c includs image:399 and image:399 \n",
      "trans_t1_b includs image:1099 and image:1099 \n",
      "879 879 220 220\n"
     ]
    }
   ],
   "source": [
    "root_path = \"../../autodl-tmp/deepthanything\"\n",
    "train_image_paths, train_depth_paths,val_image_paths, val_depth_paths = get_image_path(root_path)\n",
    "print(len(train_image_paths),len(train_depth_paths),len(val_image_paths),len(val_depth_paths))"
   ]
  },
  {
   "cell_type": "code",
   "execution_count": 3,
   "id": "d1760c96-5c86-49bb-8ffd-31007ef525b1",
   "metadata": {},
   "outputs": [],
   "source": [
    "import yaml\n",
    "with open(\"config.yaml\", \"r\") as file:\n",
    "    config = yaml.load(file, Loader=yaml.FullLoader)\n",
    "\n",
    "parser = config[\"parser\"]\n",
    "model_configs = config[\"model_configs\"]\n",
    "device = torch.device(\"cuda:0\" if torch.cuda.is_available() else \"cpu\")\n",
    "args = argparse.Namespace(**parser)"
   ]
  },
  {
   "cell_type": "code",
   "execution_count": 4,
   "id": "6d7a6c04-91b4-4261-b9de-021bce75ef45",
   "metadata": {},
   "outputs": [],
   "source": [
    "trainset = CustomDataset(image_paths=train_image_paths, depth_paths=train_depth_paths, mode='train', size=(args.img_size, args.img_size))\n",
    "trainloader = DataLoader(trainset, batch_size=args.bs, pin_memory=True, num_workers=4, drop_last=True, shuffle=True)\n",
    "valset = CustomDataset(image_paths=val_image_paths, depth_paths=val_depth_paths, mode='val', size=(args.img_size, args.img_size))\n",
    "valloader = DataLoader(valset, batch_size=args.bs, pin_memory=True, num_workers=4, drop_last=True, shuffle=True)"
   ]
  },
  {
   "cell_type": "code",
   "execution_count": 5,
   "id": "482bc3c7-a53e-479d-b276-00c22ad789a0",
   "metadata": {},
   "outputs": [
    {
     "name": "stderr",
     "output_type": "stream",
     "text": [
      "/tmp/ipykernel_20147/1747136642.py:4: FutureWarning: You are using `torch.load` with `weights_only=False` (the current default value), which uses the default pickle module implicitly. It is possible to construct malicious pickle data which will execute arbitrary code during unpickling (See https://github.com/pytorch/pytorch/blob/main/SECURITY.md#untrusted-models for more details). In a future release, the default value for `weights_only` will be flipped to `True`. This limits the functions that could be executed during unpickling. Arbitrary objects will no longer be allowed to be loaded via this mode unless they are explicitly allowlisted by the user via `torch.serialization.add_safe_globals`. We recommend you start setting `weights_only=True` for any use case where you don't have full control of the loaded file. Please open an issue on GitHub for any issues related to this experimental feature.\n",
      "  model.load_state_dict(torch.load(args.pretrained_from, map_location=device),strict=False)\n"
     ]
    },
    {
     "data": {
      "text/plain": [
       "_IncompatibleKeys(missing_keys=['depth_head.laplacian_filter.weight'], unexpected_keys=[])"
      ]
     },
     "execution_count": 5,
     "metadata": {},
     "output_type": "execute_result"
    }
   ],
   "source": [
    "cudnn.enabled = True\n",
    "cudnn.benchmark = True\n",
    "model = LaplacianDepth(**{**model_configs['vitb'], 'max_depth': args.max_depth})\n",
    "model.load_state_dict(torch.load(args.pretrained_from, map_location=device),strict=False)"
   ]
  },
  {
   "cell_type": "code",
   "execution_count": 6,
   "id": "0231ecba-9f3d-4c0e-a91f-8c98f0641818",
   "metadata": {},
   "outputs": [],
   "source": [
    "model = torch.nn.SyncBatchNorm.convert_sync_batchnorm(model)\n",
    "model.to(device)\n",
    "criterion = SiLogLoss().to(device)\n",
    "optimizer = AdamW([{'params': [param for name, param in model.named_parameters() if 'pretrained' in name], 'lr': args.lr},\n",
    "                   {'params': [param for name, param in model.named_parameters() if 'pretrained' not in name], 'lr': args.lr * 10.0}],\n",
    "                  lr=args.lr, betas=(0.9, 0.999), weight_decay=0.01)\n",
    "\n",
    "previous_best = {'d1': 0, 'd2': 0, 'd3': 0, 'abs_rel': 100, 'sq_rel': 100, 'rmse': 100, 'rmse_log': 100, 'log10': 100, 'silog': 100}"
   ]
  },
  {
   "cell_type": "code",
   "execution_count": null,
   "id": "024d9e99-0c4a-4f4b-912c-3545e8a71d82",
   "metadata": {},
   "outputs": [
    {
     "name": "stderr",
     "output_type": "stream",
     "text": [
      "Epoch 1/40: 100%|██████████| 219/219 [01:08<00:00,  3.19it/s]"
     ]
    },
    {
     "name": "stdout",
     "output_type": "stream",
     "text": [
      "Epoch [1/40] completed. Average Loss: 0.1571\n"
     ]
    },
    {
     "name": "stderr",
     "output_type": "stream",
     "text": [
      "\n"
     ]
    }
   ],
   "source": [
    "from train import *\n",
    "running_loss = train(model,args,trainloader,valloader,optimizer,criterion,device)"
   ]
  },
  {
   "cell_type": "code",
   "execution_count": null,
   "id": "31be0b99-1410-44ae-bfd5-2bd5e59e15b1",
   "metadata": {},
   "outputs": [],
   "source": []
  }
 ],
 "metadata": {
  "kernelspec": {
   "display_name": "robotics",
   "language": "python",
   "name": "robotics"
  },
  "language_info": {
   "codemirror_mode": {
    "name": "ipython",
    "version": 3
   },
   "file_extension": ".py",
   "mimetype": "text/x-python",
   "name": "python",
   "nbconvert_exporter": "python",
   "pygments_lexer": "ipython3",
   "version": "3.10.14"
  }
 },
 "nbformat": 4,
 "nbformat_minor": 5
}
